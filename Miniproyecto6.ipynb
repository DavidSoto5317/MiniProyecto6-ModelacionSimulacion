{
 "cells": [
  {
   "cell_type": "markdown",
   "metadata": {},
   "source": [
    "## Miniproyecto 6 - Algoritmos Genéticos"
   ]
  },
  {
   "cell_type": "markdown",
   "metadata": {},
   "source": [
    "#### David Soto 17551 & Miguel Valle 17102"
   ]
  },
  {
   "cell_type": "markdown",
   "metadata": {},
   "source": [
    "### Importar librerias a utilizar"
   ]
  },
  {
   "cell_type": "code",
   "execution_count": 1,
   "metadata": {},
   "outputs": [],
   "source": [
    "import numpy as np ### Manejo de arreglos\n",
    "from itertools import combinations ### Para realizar el cruze genético de los progenitores "
   ]
  },
  {
   "cell_type": "markdown",
   "metadata": {},
   "source": [
    "### Elaboración de algoritmo genético"
   ]
  },
  {
   "cell_type": "code",
   "execution_count": 2,
   "metadata": {},
   "outputs": [],
   "source": [
    "### Generador de poblaciones\n",
    "def generarPorblacion(cantidadIndividuos, limiteInferior, limiteSuperior, condicion):\n",
    "    poblacion = []\n",
    "    for x in range(cantidadIndividuos):\n",
    "        x1 = np.random.randint(limiteInferior,limiteSuperior)\n",
    "        x2 = np.random.randint(limiteInferior,limiteSuperior)\n",
    "        \n",
    "        if condicion(x1,x2):\n",
    "            a = np.array([x1,x2])\n",
    "            poblacion.append(a)\n",
    "    \n",
    "    return poblacion\n",
    "\n",
    "### Funcion para definir el criterio de finalizacion de algoritmo\n",
    "def criterioFinalizacion(poblacion, funcion):\n",
    "    criterio = []\n",
    "    \n",
    "    for x in poblacion:\n",
    "        fit = funcion(x[0],x[1])\n",
    "        criterio.append(fit)\n",
    "\n",
    "    criterio.sort(reverse = True)\n",
    "    return criterio[0]\n",
    "\n",
    "### Evalar a los individuos\n",
    "def valuarIndividuos(poblacion, funcion):\n",
    "    punteoFitness = []\n",
    "\n",
    "    for x in poblacion:\n",
    "        fit = funcion(x[0],x[1])\n",
    "        punteoFitness.append(fit)\n",
    "        \n",
    "    return punteoFitness\n",
    "\n",
    "### Se define el algoritmo genetico\n",
    "def algoritmoGenetico(iteraciones, poblacion, funcion, condicion, maxCondition):\n",
    "    contador = 0\n",
    "    \n",
    "    ### Ciclo para hacer las iteraciones de juego de herencia\n",
    "    while contador != 1000:\n",
    "        ### Se valuan los individuos en la funcion\n",
    "        punteoCromosomasFitness = valuarIndividuos(poblacion, funcion)\n",
    "\n",
    "        ### Se ordenan los valores y se escoge a los individuos mas aptos\n",
    "        punteo = list.copy(punteoCromosomasFitness)\n",
    "        punteoCromosomasFitness.sort(reverse=True)\n",
    "\n",
    "        ### Utilizamos un limite en la funcion fitness como criterio de finalización\n",
    "        if punteoCromosomasFitness[0] > maxCondition:\n",
    "            maxCondition = punteoCromosomasFitness[0]\n",
    "        elif punteoCromosomasFitness[0] == maxCondition:\n",
    "            contador = contador + 1\n",
    "\n",
    "        ### Eleccion de individuos para reproduccion\n",
    "        posicion1 = punteo.index(punteoCromosomasFitness[0])\n",
    "        posicion2 = punteo.index(punteoCromosomasFitness[1])\n",
    "\n",
    "        progenitor1 = poblacion[posicion1]\n",
    "        progenitor2 = poblacion[posicion2]\n",
    "\n",
    "        progenitores = np.concatenate((progenitor1, progenitor2))\n",
    "\n",
    "        ### Realizamos cross-over entre los progenitores y generamos un nuevo individuo\n",
    "        hijo = combinations(progenitores,2)\n",
    "\n",
    "        ### Se procede a generar la siguiente generacion\n",
    "        poblacion = []\n",
    "\n",
    "        ### Se agregan los progenitores a la nueva poblacion\n",
    "        poblacion.append(progenitor1)\n",
    "        poblacion.append(progenitor2)\n",
    "\n",
    "        ### Se realiza la mutacion de los hijos\n",
    "        for x in list(hijo):\n",
    "            arregloCromosomasHijo = np.array(x)\n",
    "\n",
    "            ### Mutacion al azar\n",
    "            posicionAlterarRandom = np.random.randint(0,2)\n",
    "            probabilidadMutacion = np.random.uniform()\n",
    "\n",
    "            if probabilidadMutacion > 0.80:\n",
    "                arregloCromosomasHijo[posicionAlterarRandom] = arregloCromosomasHijo[posicionAlterarRandom] + 1\n",
    "\n",
    "            if condicion(arregloCromosomasHijo[0],arregloCromosomasHijo[1]):\n",
    "                poblacion.append(arregloCromosomasHijo)\n",
    "\n",
    "    ### Devolvemos el resultado\n",
    "    return poblacion[0], maxCondition"
   ]
  },
  {
   "cell_type": "markdown",
   "metadata": {},
   "source": [
    "### Task 1  $\\quad f(x_1, x_2) = 15x_1 + 30x_2 + 4x_1x_2 - 2x_1 ^2 - 4x_2^2$"
   ]
  },
  {
   "cell_type": "code",
   "execution_count": 3,
   "metadata": {},
   "outputs": [
    {
     "name": "stdout",
     "output_type": "stream",
     "text": [
      "Los valores que generan el maximo de la funcion son:\n",
      "f( 12 , 9 ) = 270\n",
      "x1 = 12\n",
      "x2 = 9\n"
     ]
    }
   ],
   "source": [
    "### Se denine la cantidad de individuos iniciales la funcion fitness y la condicion\n",
    "CANTIDAD_INDIVIDUOS = 10000\n",
    "CANTIDAD_ITERACIONES = 1000\n",
    "LIMITE_INFERIOR_1 = 0\n",
    "LIMITE_SUPERIOR_2 = 30\n",
    "\n",
    "def funcionFitness1(x1, x2):\n",
    "    return 15*x1 + 30*x2 + 4*x1*x2 - 2*x1**2 - 4*x2**2\n",
    "\n",
    "def condicion1(x1, x2):\n",
    "    if x1 + 2*x2 <= 30:\n",
    "        return True\n",
    "    else:\n",
    "        return False\n",
    "\n",
    "### Se establece la población inicial\n",
    "poblacion = generarPorblacion(CANTIDAD_INDIVIDUOS, LIMITE_INFERIOR_1, LIMITE_SUPERIOR_2, condicion1)\n",
    "\n",
    "### Se establece la condicion fitness maxima\n",
    "maxFitness = criterioFinalizacion(poblacion, funcionFitness1)\n",
    "\n",
    "valores, resultadoMaximo = algoritmoGenetico(CANTIDAD_ITERACIONES, poblacion, funcionFitness1, condicion1, maxFitness)\n",
    "\n",
    "print(\"Los valores que generan el maximo de la funcion son:\")\n",
    "print(\"f(\",valores[0],\",\",valores[1],\") =\", resultadoMaximo)\n",
    "print(\"x1 =\",valores[0])\n",
    "print(\"x2 =\",valores[1])"
   ]
  },
  {
   "cell_type": "markdown",
   "metadata": {},
   "source": [
    "### Task 2  $\\quad z = 3x_1 + 5x_2$"
   ]
  },
  {
   "cell_type": "code",
   "execution_count": 4,
   "metadata": {},
   "outputs": [
    {
     "name": "stdout",
     "output_type": "stream",
     "text": [
      "Los valores que generan el maximo de la funcion son:\n",
      "f( 2 , 6 ) = 36\n",
      "x1 = 2\n",
      "x2 = 6\n"
     ]
    }
   ],
   "source": [
    "### Se denine la cantidad de individuos iniciales la funcion fitness y la condicion\n",
    "CANTIDAD_INDIVIDUOS = 10000\n",
    "CANTIDAD_ITERACIONES = 1000\n",
    "LIMITE_INFERIOR_1 = 0\n",
    "LIMITE_SUPERIOR_2 = 6\n",
    "\n",
    "def funcionFitness2(x1, x2):\n",
    "    return 3*x1 + 5*x2\n",
    "\n",
    "def condicion2(x1, x2):\n",
    "    if 3*x1 + 2*x2 <= 18:\n",
    "        return True\n",
    "    else:\n",
    "        return False\n",
    "\n",
    "### Se establece la población inicial\n",
    "poblacion = generarPorblacion(CANTIDAD_INDIVIDUOS, LIMITE_INFERIOR_1, LIMITE_SUPERIOR_2, condicion2)\n",
    "\n",
    "### Se establece la condicion fitness maxima\n",
    "maxFitness = criterioFinalizacion(poblacion, funcionFitness2)\n",
    "\n",
    "valores, resultadoMaximo = algoritmoGenetico(CANTIDAD_ITERACIONES, poblacion, funcionFitness2, condicion2, maxFitness)\n",
    "\n",
    "print(\"Los valores que generan el maximo de la funcion son:\")\n",
    "print(\"f(\",valores[0],\",\",valores[1],\") =\", resultadoMaximo)\n",
    "print(\"x1 =\",valores[0])\n",
    "print(\"x2 =\",valores[1])"
   ]
  },
  {
   "cell_type": "markdown",
   "metadata": {},
   "source": [
    "### Task 3  $\\quad f(x_1, x_2) = 5x_1 - x_1^2 + 8x_2 - 2x_2^2$"
   ]
  },
  {
   "cell_type": "code",
   "execution_count": 5,
   "metadata": {},
   "outputs": [
    {
     "name": "stdout",
     "output_type": "stream",
     "text": [
      "Los valores que generan el maximo de la funcion son:\n",
      "f( 1 , 1 ) = 10\n",
      "x1 = 1\n",
      "x2 = 1\n"
     ]
    }
   ],
   "source": [
    "### Se denine la cantidad de individuos iniciales la funcion fitness y la condicion\n",
    "CANTIDAD_INDIVIDUOS = 10000\n",
    "CANTIDAD_ITERACIONES = 1000\n",
    "LIMITE_INFERIOR_1 = 0\n",
    "LIMITE_SUPERIOR_2 = 6\n",
    "\n",
    "def funcionFitness3(x1, x2):\n",
    "    return 5*x1 - x1**2 + 8*x2 - 2*x2**2\n",
    "\n",
    "def condicion3(x1, x2):\n",
    "    if 3*x1 + 2*x2 <= 6:\n",
    "        return True\n",
    "    else:\n",
    "        return False\n",
    "\n",
    "### Se establece la población inicial\n",
    "poblacion = generarPorblacion(CANTIDAD_INDIVIDUOS, LIMITE_INFERIOR_1, LIMITE_SUPERIOR_2, condicion3)\n",
    "\n",
    "### Se establece la condicion fitness maxima\n",
    "maxFitness = criterioFinalizacion(poblacion, funcionFitness3)\n",
    "\n",
    "valores, resultadoMaximo = algoritmoGenetico(CANTIDAD_ITERACIONES, poblacion, funcionFitness3, condicion3, maxFitness)\n",
    "\n",
    "print(\"Los valores que generan el maximo de la funcion son:\")\n",
    "print(\"f(\",valores[0],\",\",valores[1],\") =\", resultadoMaximo)\n",
    "print(\"x1 =\",valores[0])\n",
    "print(\"x2 =\",valores[1])"
   ]
  }
 ],
 "metadata": {
  "kernelspec": {
   "display_name": "Python 3",
   "language": "python",
   "name": "python3"
  },
  "language_info": {
   "codemirror_mode": {
    "name": "ipython",
    "version": 3
   },
   "file_extension": ".py",
   "mimetype": "text/x-python",
   "name": "python",
   "nbconvert_exporter": "python",
   "pygments_lexer": "ipython3",
   "version": "3.8.6"
  }
 },
 "nbformat": 4,
 "nbformat_minor": 4
}
